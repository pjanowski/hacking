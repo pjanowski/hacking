{
 "cells": [
  {
   "cell_type": "code",
   "execution_count": 2,
   "metadata": {},
   "outputs": [
    {
     "data": {
      "text/plain": [
       "'12.1'"
      ]
     },
     "execution_count": 2,
     "metadata": {},
     "output_type": "execute_result"
    }
   ],
   "source": [
    "import torch\n",
    "torch.version.cuda"
   ]
  },
  {
   "cell_type": "code",
   "execution_count": 6,
   "metadata": {},
   "outputs": [],
   "source": [
    "from langchain_community.document_loaders import WebBaseLoader\n",
    "loader = WebBaseLoader(['https://azure.github.io/shrike/compliant_logging/','https://azure.github.io/shrike/build/prepare/'])\n",
    "docs = loader.load()"
   ]
  },
  {
   "cell_type": "code",
   "execution_count": 16,
   "metadata": {},
   "outputs": [
    {
     "data": {
      "text/plain": [
       "{'source': 'https://azure.github.io/shrike/build/prepare/',\n",
       " 'title': 'prepare - Shrike',\n",
       " 'language': 'en'}"
      ]
     },
     "execution_count": 16,
     "metadata": {},
     "output_type": "execute_result"
    }
   ],
   "source": [
    "x=docs[1]\n",
    "x.dict()['metadata']"
   ]
  },
  {
   "cell_type": "code",
   "execution_count": 3,
   "metadata": {},
   "outputs": [
    {
     "name": "stderr",
     "output_type": "stream",
     "text": [
      "Repo card metadata block was not found. Setting CardData to empty.\n",
      "Generating eval split: 20 examples [00:00, 821.07 examples/s]\n"
     ]
    },
    {
     "data": {
      "text/plain": [
       "DatasetDict({\n",
       "    eval: Dataset({\n",
       "        features: ['question', 'ground_truth', 'answer', 'contexts'],\n",
       "        num_rows: 20\n",
       "    })\n",
       "})"
      ]
     },
     "execution_count": 3,
     "metadata": {},
     "output_type": "execute_result"
    }
   ],
   "source": [
    "from datasets import load_dataset\n",
    "\n",
    "amnesty_qa = load_dataset(\"explodinggradients/amnesty_qa\", \"english_v2\", trust_remote_code=True)\n",
    "amnesty_qa"
   ]
  },
  {
   "cell_type": "code",
   "execution_count": 26,
   "metadata": {},
   "outputs": [
    {
     "name": "stderr",
     "output_type": "stream",
     "text": [
      "INFO:azure.identity._credentials.environment:No environment configuration found.\n",
      "INFO:azure.identity._credentials.managed_identity:ManagedIdentityCredential will use IMDS\n"
     ]
    }
   ],
   "source": [
    "from azure.identity import ManagedIdentityCredential, DefaultAzureCredential\n",
    "from azure.keyvault.secrets import SecretClient\n",
    "import logging\n",
    "logging.basicConfig(level=logging.INFO)\n",
    "\n",
    "key_vault_url = \"https://kv-pjanowski.vault.azure.net/\"\n",
    "\n",
    "# credential = ManagedIdentityCredential()\n",
    "credential = DefaultAzureCredential()\n",
    "client = SecretClient(vault_url=key_vault_url, credential=credential)\n",
    "\n",
    "secret_name = \"openai\"\n",
    "# secret = client.get_secret(secret_name)"
   ]
  },
  {
   "cell_type": "code",
   "execution_count": null,
   "metadata": {},
   "outputs": [],
   "source": []
  },
  {
   "cell_type": "code",
   "execution_count": 28,
   "metadata": {},
   "outputs": [
    {
     "name": "stderr",
     "output_type": "stream",
     "text": [
      "INFO:azure.core.pipeline.policies.http_logging_policy:Request URL: 'https://kv-pjanowski.vault.azure.net/secrets/mySecret?api-version=REDACTED'\n",
      "Request method: 'PUT'\n",
      "Request headers:\n",
      "    'Content-Type': 'application/json'\n",
      "    'Content-Length': '26'\n",
      "    'Accept': 'application/json'\n",
      "    'x-ms-client-request-id': '41d16fce-85ab-11ef-b525-00155d63091d'\n",
      "    'User-Agent': 'azsdk-python-keyvault-secrets/4.8.0 Python/3.11.7 (Linux-5.15.153.1-microsoft-standard-WSL2-x86_64-with-glibc2.31)'\n",
      "    'Authorization': 'REDACTED'\n",
      "A body is sent with the request\n",
      "INFO:azure.core.pipeline.policies.http_logging_policy:Response status: 403\n",
      "Response headers:\n",
      "    'Cache-Control': 'no-cache'\n",
      "    'Pragma': 'no-cache'\n",
      "    'Content-Length': '595'\n",
      "    'Content-Type': 'application/json; charset=utf-8'\n",
      "    'Expires': '-1'\n",
      "    'x-ms-keyvault-region': 'eastus2'\n",
      "    'x-ms-client-request-id': '41d16fce-85ab-11ef-b525-00155d63091d'\n",
      "    'x-ms-request-id': '19b75957-abba-43b0-bb24-0dda59aa378d'\n",
      "    'x-ms-keyvault-service-version': '1.9.1753.1'\n",
      "    'x-ms-keyvault-network-info': 'conn_type=Ipv4;addr=50.35.70.15;act_addr_fam=InterNetwork;'\n",
      "    'x-ms-keyvault-rbac-assignment-id': 'REDACTED'\n",
      "    'X-Content-Type-Options': 'REDACTED'\n",
      "    'Strict-Transport-Security': 'REDACTED'\n",
      "    'Date': 'Tue, 08 Oct 2024 19:26:45 GMT'\n"
     ]
    },
    {
     "ename": "HttpResponseError",
     "evalue": "(Forbidden) {\"objectName\":\"mySecret\",\"message\":\"Secret 'mySecret' was disallowed by policy.\",\"policyIdentifiers\":{\"policyAssignment\":{\"name\":\"Secrets should have content type set\",\"id\":\"/subscriptions/199b3c58-a154-4c89-80c8-6bbc39e6bee0/providers/Microsoft.Authorization/policyAssignments/b5c5c9741cbe456f8d95534e\"},\"policyDefinition\":{\"name\":\"Secrets should have content type set\",\"id\":\"/providers/Microsoft.Authorization/policyDefinitions/75262d3e-ba4a-4f43-85f8-9f72c090e5e3\"}}}\nCode: Forbidden\nMessage: {\"objectName\":\"mySecret\",\"message\":\"Secret 'mySecret' was disallowed by policy.\",\"policyIdentifiers\":{\"policyAssignment\":{\"name\":\"Secrets should have content type set\",\"id\":\"/subscriptions/199b3c58-a154-4c89-80c8-6bbc39e6bee0/providers/Microsoft.Authorization/policyAssignments/b5c5c9741cbe456f8d95534e\"},\"policyDefinition\":{\"name\":\"Secrets should have content type set\",\"id\":\"/providers/Microsoft.Authorization/policyDefinitions/75262d3e-ba4a-4f43-85f8-9f72c090e5e3\"}}}\nInner error: {\n    \"code\": \"ForbiddenByGovernancePolicy\"\n}",
     "output_type": "error",
     "traceback": [
      "\u001b[0;31m---------------------------------------------------------------------------\u001b[0m",
      "\u001b[0;31mHttpResponseError\u001b[0m                         Traceback (most recent call last)",
      "Cell \u001b[0;32mIn[28], line 3\u001b[0m\n\u001b[1;32m      1\u001b[0m secret_name \u001b[38;5;241m=\u001b[39m \u001b[38;5;124m\"\u001b[39m\u001b[38;5;124mmySecret\u001b[39m\u001b[38;5;124m\"\u001b[39m\n\u001b[1;32m      2\u001b[0m secret_value \u001b[38;5;241m=\u001b[39m \u001b[38;5;124m\"\u001b[39m\u001b[38;5;124mmySecretValue\u001b[39m\u001b[38;5;124m\"\u001b[39m\n\u001b[0;32m----> 3\u001b[0m \u001b[43mclient\u001b[49m\u001b[38;5;241;43m.\u001b[39;49m\u001b[43mset_secret\u001b[49m\u001b[43m(\u001b[49m\u001b[43msecret_name\u001b[49m\u001b[43m,\u001b[49m\u001b[43m \u001b[49m\u001b[43msecret_value\u001b[49m\u001b[43m)\u001b[49m\n",
      "File \u001b[0;32m~/miniconda3/envs/rag311/lib/python3.11/site-packages/azure/core/tracing/decorator.py:94\u001b[0m, in \u001b[0;36mdistributed_trace.<locals>.decorator.<locals>.wrapper_use_tracer\u001b[0;34m(*args, **kwargs)\u001b[0m\n\u001b[1;32m     92\u001b[0m span_impl_type \u001b[38;5;241m=\u001b[39m settings\u001b[38;5;241m.\u001b[39mtracing_implementation()\n\u001b[1;32m     93\u001b[0m \u001b[38;5;28;01mif\u001b[39;00m span_impl_type \u001b[38;5;129;01mis\u001b[39;00m \u001b[38;5;28;01mNone\u001b[39;00m:\n\u001b[0;32m---> 94\u001b[0m     \u001b[38;5;28;01mreturn\u001b[39;00m \u001b[43mfunc\u001b[49m\u001b[43m(\u001b[49m\u001b[38;5;241;43m*\u001b[39;49m\u001b[43margs\u001b[49m\u001b[43m,\u001b[49m\u001b[43m \u001b[49m\u001b[38;5;241;43m*\u001b[39;49m\u001b[38;5;241;43m*\u001b[39;49m\u001b[43mkwargs\u001b[49m\u001b[43m)\u001b[49m\n\u001b[1;32m     96\u001b[0m \u001b[38;5;66;03m# Merge span is parameter is set, but only if no explicit parent are passed\u001b[39;00m\n\u001b[1;32m     97\u001b[0m \u001b[38;5;28;01mif\u001b[39;00m merge_span \u001b[38;5;129;01mand\u001b[39;00m \u001b[38;5;129;01mnot\u001b[39;00m passed_in_parent:\n",
      "File \u001b[0;32m~/miniconda3/envs/rag311/lib/python3.11/site-packages/azure/keyvault/secrets/_client.py:120\u001b[0m, in \u001b[0;36mSecretClient.set_secret\u001b[0;34m(self, name, value, **kwargs)\u001b[0m\n\u001b[1;32m    111\u001b[0m     attributes \u001b[38;5;241m=\u001b[39m \u001b[38;5;28;01mNone\u001b[39;00m\n\u001b[1;32m    113\u001b[0m parameters \u001b[38;5;241m=\u001b[39m \u001b[38;5;28mself\u001b[39m\u001b[38;5;241m.\u001b[39m_models\u001b[38;5;241m.\u001b[39mSecretSetParameters(\n\u001b[1;32m    114\u001b[0m     value\u001b[38;5;241m=\u001b[39mvalue,\n\u001b[1;32m    115\u001b[0m     tags\u001b[38;5;241m=\u001b[39mkwargs\u001b[38;5;241m.\u001b[39mpop(\u001b[38;5;124m\"\u001b[39m\u001b[38;5;124mtags\u001b[39m\u001b[38;5;124m\"\u001b[39m, \u001b[38;5;28;01mNone\u001b[39;00m),\n\u001b[1;32m    116\u001b[0m     content_type\u001b[38;5;241m=\u001b[39mcontent_type,\n\u001b[1;32m    117\u001b[0m     secret_attributes\u001b[38;5;241m=\u001b[39mattributes\n\u001b[1;32m    118\u001b[0m )\n\u001b[0;32m--> 120\u001b[0m bundle \u001b[38;5;241m=\u001b[39m \u001b[38;5;28;43mself\u001b[39;49m\u001b[38;5;241;43m.\u001b[39;49m\u001b[43m_client\u001b[49m\u001b[38;5;241;43m.\u001b[39;49m\u001b[43mset_secret\u001b[49m\u001b[43m(\u001b[49m\n\u001b[1;32m    121\u001b[0m \u001b[43m    \u001b[49m\u001b[43mvault_base_url\u001b[49m\u001b[38;5;241;43m=\u001b[39;49m\u001b[38;5;28;43mself\u001b[39;49m\u001b[38;5;241;43m.\u001b[39;49m\u001b[43mvault_url\u001b[49m\u001b[43m,\u001b[49m\n\u001b[1;32m    122\u001b[0m \u001b[43m    \u001b[49m\u001b[43msecret_name\u001b[49m\u001b[38;5;241;43m=\u001b[39;49m\u001b[43mname\u001b[49m\u001b[43m,\u001b[49m\n\u001b[1;32m    123\u001b[0m \u001b[43m    \u001b[49m\u001b[43mparameters\u001b[49m\u001b[38;5;241;43m=\u001b[39;49m\u001b[43mparameters\u001b[49m\u001b[43m,\u001b[49m\n\u001b[1;32m    124\u001b[0m \u001b[43m    \u001b[49m\u001b[38;5;241;43m*\u001b[39;49m\u001b[38;5;241;43m*\u001b[39;49m\u001b[43mkwargs\u001b[49m\n\u001b[1;32m    125\u001b[0m \u001b[43m\u001b[49m\u001b[43m)\u001b[49m\n\u001b[1;32m    126\u001b[0m \u001b[38;5;28;01mreturn\u001b[39;00m KeyVaultSecret\u001b[38;5;241m.\u001b[39m_from_secret_bundle(bundle)\n",
      "File \u001b[0;32m~/miniconda3/envs/rag311/lib/python3.11/site-packages/azure/core/tracing/decorator.py:94\u001b[0m, in \u001b[0;36mdistributed_trace.<locals>.decorator.<locals>.wrapper_use_tracer\u001b[0;34m(*args, **kwargs)\u001b[0m\n\u001b[1;32m     92\u001b[0m span_impl_type \u001b[38;5;241m=\u001b[39m settings\u001b[38;5;241m.\u001b[39mtracing_implementation()\n\u001b[1;32m     93\u001b[0m \u001b[38;5;28;01mif\u001b[39;00m span_impl_type \u001b[38;5;129;01mis\u001b[39;00m \u001b[38;5;28;01mNone\u001b[39;00m:\n\u001b[0;32m---> 94\u001b[0m     \u001b[38;5;28;01mreturn\u001b[39;00m \u001b[43mfunc\u001b[49m\u001b[43m(\u001b[49m\u001b[38;5;241;43m*\u001b[39;49m\u001b[43margs\u001b[49m\u001b[43m,\u001b[49m\u001b[43m \u001b[49m\u001b[38;5;241;43m*\u001b[39;49m\u001b[38;5;241;43m*\u001b[39;49m\u001b[43mkwargs\u001b[49m\u001b[43m)\u001b[49m\n\u001b[1;32m     96\u001b[0m \u001b[38;5;66;03m# Merge span is parameter is set, but only if no explicit parent are passed\u001b[39;00m\n\u001b[1;32m     97\u001b[0m \u001b[38;5;28;01mif\u001b[39;00m merge_span \u001b[38;5;129;01mand\u001b[39;00m \u001b[38;5;129;01mnot\u001b[39;00m passed_in_parent:\n",
      "File \u001b[0;32m~/miniconda3/envs/rag311/lib/python3.11/site-packages/azure/keyvault/secrets/_generated/_operations/_operations.py:481\u001b[0m, in \u001b[0;36mKeyVaultClientOperationsMixin.set_secret\u001b[0;34m(self, vault_base_url, secret_name, parameters, **kwargs)\u001b[0m\n\u001b[1;32m    479\u001b[0m     map_error(status_code\u001b[38;5;241m=\u001b[39mresponse\u001b[38;5;241m.\u001b[39mstatus_code, response\u001b[38;5;241m=\u001b[39mresponse, error_map\u001b[38;5;241m=\u001b[39merror_map)\n\u001b[1;32m    480\u001b[0m     error \u001b[38;5;241m=\u001b[39m \u001b[38;5;28mself\u001b[39m\u001b[38;5;241m.\u001b[39m_deserialize\u001b[38;5;241m.\u001b[39mfailsafe_deserialize(_models\u001b[38;5;241m.\u001b[39mKeyVaultError, pipeline_response)\n\u001b[0;32m--> 481\u001b[0m     \u001b[38;5;28;01mraise\u001b[39;00m HttpResponseError(response\u001b[38;5;241m=\u001b[39mresponse, model\u001b[38;5;241m=\u001b[39merror)\n\u001b[1;32m    483\u001b[0m deserialized \u001b[38;5;241m=\u001b[39m \u001b[38;5;28mself\u001b[39m\u001b[38;5;241m.\u001b[39m_deserialize(\u001b[38;5;124m\"\u001b[39m\u001b[38;5;124mSecretBundle\u001b[39m\u001b[38;5;124m\"\u001b[39m, pipeline_response)\n\u001b[1;32m    485\u001b[0m \u001b[38;5;28;01mif\u001b[39;00m \u001b[38;5;28mcls\u001b[39m:\n",
      "\u001b[0;31mHttpResponseError\u001b[0m: (Forbidden) {\"objectName\":\"mySecret\",\"message\":\"Secret 'mySecret' was disallowed by policy.\",\"policyIdentifiers\":{\"policyAssignment\":{\"name\":\"Secrets should have content type set\",\"id\":\"/subscriptions/199b3c58-a154-4c89-80c8-6bbc39e6bee0/providers/Microsoft.Authorization/policyAssignments/b5c5c9741cbe456f8d95534e\"},\"policyDefinition\":{\"name\":\"Secrets should have content type set\",\"id\":\"/providers/Microsoft.Authorization/policyDefinitions/75262d3e-ba4a-4f43-85f8-9f72c090e5e3\"}}}\nCode: Forbidden\nMessage: {\"objectName\":\"mySecret\",\"message\":\"Secret 'mySecret' was disallowed by policy.\",\"policyIdentifiers\":{\"policyAssignment\":{\"name\":\"Secrets should have content type set\",\"id\":\"/subscriptions/199b3c58-a154-4c89-80c8-6bbc39e6bee0/providers/Microsoft.Authorization/policyAssignments/b5c5c9741cbe456f8d95534e\"},\"policyDefinition\":{\"name\":\"Secrets should have content type set\",\"id\":\"/providers/Microsoft.Authorization/policyDefinitions/75262d3e-ba4a-4f43-85f8-9f72c090e5e3\"}}}\nInner error: {\n    \"code\": \"ForbiddenByGovernancePolicy\"\n}"
     ]
    }
   ],
   "source": [
    "secret_name = \"mySecret\"\n",
    "secret_value = \"mySecretValue\"\n",
    "client.set_secret(secret_name, secret_value, content_type=\"text\")"
   ]
  },
  {
   "cell_type": "code",
   "execution_count": 30,
   "metadata": {},
   "outputs": [
    {
     "name": "stdout",
     "output_type": "stream",
     "text": [
      "[[0, 0, 0, 0, 0], [0, 0, 0, 0, 0], [0, 0, 0, 0, 0], [0, 0, 0, 0, 0]]\n",
      "[[1, 0, 0, 0, 0], [1, 0, 0, 0, 0], [1, 0, 0, 0, 0], [1, 0, 0, 0, 0]]\n"
     ]
    }
   ],
   "source": [
    "m=4\n",
    "n=5\n",
    "visited = [[0] * n] * m\n",
    "print(visited)\n",
    "visited[0][0] = 1\n",
    "print(visited)"
   ]
  },
  {
   "cell_type": "code",
   "execution_count": 46,
   "metadata": {},
   "outputs": [
    {
     "data": {
      "text/plain": [
       "[[5, 0, 3, 0, 0], [1, 0, 3, 0, 0], [1, 0, 4, 0, 0], [1, 0, 3, 0, 0]]"
      ]
     },
     "execution_count": 46,
     "metadata": {},
     "output_type": "execute_result"
    }
   ],
   "source": [
    "visited = [[1, 0, 3, 0, 0], [1, 0, 3, 0, 0], [1, 0, 4, 0, 0], [1, 0, 3, 0, 0]]\n",
    "visited[0][0] = 5\n",
    "visited"
   ]
  }
 ],
 "metadata": {
  "kernelspec": {
   "display_name": "rag311",
   "language": "python",
   "name": "python3"
  },
  "language_info": {
   "codemirror_mode": {
    "name": "ipython",
    "version": 3
   },
   "file_extension": ".py",
   "mimetype": "text/x-python",
   "name": "python",
   "nbconvert_exporter": "python",
   "pygments_lexer": "ipython3",
   "version": "3.11.7"
  }
 },
 "nbformat": 4,
 "nbformat_minor": 2
}
